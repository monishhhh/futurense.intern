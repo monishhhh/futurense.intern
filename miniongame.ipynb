{
 "cells": [
  {
   "cell_type": "code",
   "execution_count": 10,
   "metadata": {},
   "outputs": [
    {
     "name": "stdout",
     "output_type": "stream",
     "text": [
      "Kevin's score: 9\n",
      "Stuart's score: 12\n",
      "Stuart wins!\n"
     ]
    }
   ],
   "source": [
    "def minion_game(s):\n",
    "    vowels = 'AEIOUaeiou'\n",
    "    kevin_score = 0\n",
    "    stuart_score = 0\n",
    "\n",
    "    for i in range(len(s)):\n",
    "        if s[i] in vowels:\n",
    "            kevin_score += (len(s) - i)\n",
    "        else:\n",
    "            stuart_score += (len(s) - i)\n",
    "\n",
    "    return kevin_score, stuart_score\n",
    "\n",
    "givenstring = 'banana'\n",
    "kevin_score, stuart_score = minion_game(s)\n",
    "\n",
    "print(f\"Kevin's score: {kevin_score}\")\n",
    "print(f\"Stuart's score: {stuart_score}\")\n",
    "\n",
    "if kevin_score > stuart_score:\n",
    "    print(\"Kevin wins!\")\n",
    "elif kevin_score < stuart_score:\n",
    "    print(\"Stuart wins!\")\n",
    "else:\n",
    "    print(\"It's a tie!\")"
   ]
  }
 ],
 "metadata": {
  "kernelspec": {
   "display_name": "Python 3",
   "language": "python",
   "name": "python3"
  },
  "language_info": {
   "codemirror_mode": {
    "name": "ipython",
    "version": 3
   },
   "file_extension": ".py",
   "mimetype": "text/x-python",
   "name": "python",
   "nbconvert_exporter": "python",
   "pygments_lexer": "ipython3",
   "version": "3.10.9"
  },
  "orig_nbformat": 4
 },
 "nbformat": 4,
 "nbformat_minor": 2
}
